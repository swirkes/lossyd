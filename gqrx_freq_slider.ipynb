{
 "cells": [
  {
   "cell_type": "code",
   "execution_count": null,
   "metadata": {},
   "outputs": [],
   "source": [
    "import socket\n",
    "import ipywidgets as widgets\n",
    "from IPython.display import display\n"
   ]
  },
  {
   "cell_type": "code",
   "execution_count": 2,
   "metadata": {},
   "outputs": [],
   "source": [
    "def test_gqrx_connection(host='localhost', port=7356):\n",
    "    try:\n",
    "        # Create a socket and connect to Gqrx\n",
    "        s = socket.socket(socket.AF_INET, socket.SOCK_STREAM)\n",
    "        s.connect((host, port))\n",
    "\n",
    "        # Send a command to get the frequency\n",
    "        s.sendall(b'f\\n')\n",
    "        frequency = s.recv(1024).decode('utf-8').strip()\n",
    "\n",
    "        s.close()\n",
    "        return f'Connected successfully! Current frequency: {frequency} Hz'\n",
    "    except Exception as e:\n",
    "        return f'Failed to connect: {e}'"
   ]
  },
  {
   "cell_type": "code",
   "execution_count": 3,
   "metadata": {},
   "outputs": [],
   "source": [
    "    \n",
    "class GqrxController:\n",
    "    def __init__(self, host='localhost', port=7356):\n",
    "        self.host = host\n",
    "        self.port = port\n",
    "        self.sock = socket.socket(socket.AF_INET, socket.SOCK_STREAM)\n",
    "        self.sock.connect((self.host, self.port))\n",
    "\n",
    "    def send_command(self, cmd):\n",
    "        self.sock.sendall((cmd + '\\n').encode('utf-8'))\n",
    "        response = self.sock.recv(1024).decode('utf-8').strip()\n",
    "        return response\n",
    "\n",
    "    def get_frequency(self):\n",
    "        return float(self.send_command('f'))\n",
    "\n",
    "    def set_frequency(self, freq):\n",
    "        self.send_command(f'F {freq}')\n",
    "        return self.get_frequency()\n",
    "\n",
    "    def close(self):\n",
    "        self.sock.close()\n"
   ]
  },
  {
   "cell_type": "code",
   "execution_count": 4,
   "metadata": {},
   "outputs": [],
   "source": [
    "\n",
    "# Test the connection\n",
    "test_gqrx_connection()\n",
    "\n",
    "# Create an instance of GqrxController\n",
    "gqrx = GqrxController()\n",
    "\n",
    "# Define a function to update frequency\n",
    "def update_frequency(freq):\n",
    "    gqrx.set_frequency(freq)\n",
    "    print(f\"Frequency set to: {freq} Hz\")\n"
   ]
  },
  {
   "cell_type": "code",
   "execution_count": 5,
   "metadata": {},
   "outputs": [
    {
     "data": {
      "application/vnd.jupyter.widget-view+json": {
       "model_id": "a8646e6332be48469fbabb7221406c2d",
       "version_major": 2,
       "version_minor": 0
      },
      "text/plain": [
       "interactive(children=(FloatSlider(value=2409000000.0, continuous_update=False, description='Frequency:', max=2…"
      ]
     },
     "execution_count": 5,
     "metadata": {},
     "output_type": "execute_result"
    }
   ],
   "source": [
    "\n",
    "# Create a slider for frequency control\n",
    "freq_slider = widgets.FloatSlider(\n",
    "    value=gqrx.get_frequency(),\n",
    "    min=2.3e9,  # 2.3 GHz\n",
    "    max=2.5e9,  # 2.5 GHz\n",
    "    step=1e6,  # 1 MHz step\n",
    "    description='Frequency:',\n",
    "    continuous_update=False\n",
    ")\n",
    "widgets.interactive(update_frequency, freq=freq_slider)\n"
   ]
  },
  {
   "cell_type": "code",
   "execution_count": null,
   "metadata": {},
   "outputs": [],
   "source": [
    "\n",
    "# Close the connection\n",
    "gqrx.close()\n"
   ]
  },
  {
   "cell_type": "code",
   "execution_count": null,
   "metadata": {},
   "outputs": [],
   "source": [
    "\n",
    "### IGNORE BELOW THIS LINE ###\n",
    "class MockGqrxTCPInterface:\n",
    "    def __init__(self):\n",
    "        # Simulated state variables\n",
    "        self.frequency = 2.4e9  # 2.4 GHz\n",
    "        self.gain = 50  # in dB\n",
    "        self.signal_strength = -50  # in dBm\n",
    "\n",
    "    def set_frequency(self, freq):\n",
    "        self.frequency = freq\n",
    "        # Simulate a change in signal strength based on frequency change\n",
    "        self.signal_strength = -50 + (2.4e9 - freq) * 1e-8\n",
    "        return self.frequency\n",
    "\n",
    "    def get_frequency(self):\n",
    "        return self.frequency\n",
    "\n",
    "    def set_gain(self, gain):\n",
    "        self.gain = gain\n",
    "        # Simulate a change in signal strength based on gain change\n",
    "        self.signal_strength += gain * 0.1\n",
    "        return self.gain\n",
    "\n",
    "    def get_signal_strength(self):\n",
    "        return self.signal_strength\n",
    "\n"
   ]
  },
  {
   "cell_type": "code",
   "execution_count": null,
   "metadata": {},
   "outputs": [],
   "source": [
    "# Test the connection\n",
    "gqrx = GqrxController()\n",
    "current_freq = gqrx.get_frequency()\n",
    "gqrx.close()\n",
    "current_freq"
   ]
  },
  {
   "cell_type": "code",
   "execution_count": null,
   "metadata": {},
   "outputs": [],
   "source": [
    "\n",
    "\n",
    "# Create an instance of the mock interface\n",
    "mock_gqrx = MockGqrxTCPInterface()\n",
    "\n",
    "# Print the initial frequency and signal strength\n",
    "print(f\"Initial Frequency: {mock_gqrx.get_frequency()} Hz\")\n",
    "print(f\"Initial Signal Strength: {mock_gqrx.get_signal_strength()} dBm\")\n",
    "\n",
    "# Change the frequency\n",
    "new_freq = 2.45e9  # 2.45 GHz\n",
    "mock_gqrx.set_frequency(new_freq)\n",
    "\n",
    "# Print the updated frequency and signal strength\n",
    "print(f\"Updated Frequency: {mock_gqrx.get_frequency()} Hz\")\n",
    "print(f\"Updated Signal Strength: {mock_gqrx.get_signal_strength()} dBm\")\n",
    "\n",
    "# Change the gain and observe the effect on signal strength\n",
    "mock_gqrx.set_gain(60)  # Increase gain to 60 dB\n",
    "print(f\"Signal Strength after Gain Change: {mock_gqrx.get_signal_strength()} dBm\")"
   ]
  }
 ],
 "metadata": {
  "kernelspec": {
   "display_name": "lossydenv",
   "language": "python",
   "name": "python3"
  },
  "language_info": {
   "codemirror_mode": {
    "name": "ipython",
    "version": 3
   },
   "file_extension": ".py",
   "mimetype": "text/x-python",
   "name": "python",
   "nbconvert_exporter": "python",
   "pygments_lexer": "ipython3",
   "version": "3.9.12"
  },
  "orig_nbformat": 4
 },
 "nbformat": 4,
 "nbformat_minor": 2
}
