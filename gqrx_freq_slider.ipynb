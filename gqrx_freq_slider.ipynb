{
 "cells": [
  {
   "cell_type": "code",
   "execution_count": 1,
   "metadata": {},
   "outputs": [],
   "source": [
    "import socket\n",
    "import ipywidgets as widgets\n",
    "from IPython.display import display"
   ]
  },
  {
   "cell_type": "code",
   "execution_count": 2,
   "metadata": {},
   "outputs": [],
   "source": [
    "def test_gqrx_connection(host='localhost', port=7356):\n",
    "    try:\n",
    "        # Create a socket and connect to Gqrx\n",
    "        s = socket.socket(socket.AF_INET, socket.SOCK_STREAM)\n",
    "        s.connect((host, port))\n",
    "\n",
    "        # Send a command to get the frequency\n",
    "        s.sendall(b'f\\n')\n",
    "        frequency = s.recv(1024).decode('utf-8').strip()\n",
    "\n",
    "        s.close()\n",
    "        return f'Connected successfully! Current frequency: {frequency} Hz'\n",
    "    except Exception as e:\n",
    "        return f'Failed to connect: {e}'"
   ]
  },
  {
   "cell_type": "code",
   "execution_count": 3,
   "metadata": {},
   "outputs": [],
   "source": [
    "    \n",
    "class GqrxController:\n",
    "    def __init__(self, host='localhost', port=7356):\n",
    "        self.host = host\n",
    "        self.port = port\n",
    "        self.sock = socket.socket(socket.AF_INET, socket.SOCK_STREAM)\n",
    "        self.sock.connect((self.host, self.port))\n",
    "\n",
    "    def send_command(self, cmd):\n",
    "        self.sock.sendall((cmd + '\\n').encode('utf-8'))\n",
    "        response = self.sock.recv(1024).decode('utf-8').strip()\n",
    "        return response\n",
    "\n",
    "    def get_frequency(self):\n",
    "        return float(self.send_command('f'))\n",
    "\n",
    "    def set_frequency(self, freq):\n",
    "        self.send_command(f'F {freq}')\n",
    "        return self.get_frequency()\n",
    "\n",
    "    def close(self):\n",
    "        self.sock.close()\n"
   ]
  },
  {
   "cell_type": "code",
   "execution_count": null,
   "metadata": {},
   "outputs": [],
   "source": [
    "\n",
    "# Test the connection\n",
    "test_gqrx_connection()\n",
    "\n",
    "# Create an instance of GqrxController\n",
    "gqrx = GqrxController()\n",
    "\n",
    "# Define a function to update frequency\n",
    "def update_frequency(freq):\n",
    "    gqrx.set_frequency(freq)\n",
    "    print(f\"Frequency set to: {freq} Hz\")\n"
   ]
  },
  {
   "cell_type": "code",
   "execution_count": 9,
   "metadata": {},
   "outputs": [
    {
     "data": {
      "application/vnd.jupyter.widget-view+json": {
       "model_id": "217fb2ec23c94f6ba5ece927be266c1a",
       "version_major": 2,
       "version_minor": 0
      },
      "text/plain": [
       "interactive(children=(FloatSlider(value=2471500000.0, continuous_update=False, description='Frequency:', max=2…"
      ]
     },
     "execution_count": 9,
     "metadata": {},
     "output_type": "execute_result"
    }
   ],
   "source": [
    "\n",
    "# Create a slider for frequency control in Wi-Fi channel 11\n",
    "freq_slider = widgets.FloatSlider(\n",
    "    value=gqrx.get_frequency(),\n",
    "    min=2.450e9,  # 2.45 GHz\n",
    "    max=2.473e9,  # 2.47 GHz\n",
    "    step=100,  # 1 MHz step\n",
    "    description='Frequency:',\n",
    "    continuous_update=False\n",
    ")\n",
    "widgets.interactive(update_frequency, freq=freq_slider)\n"
   ]
  },
  {
   "cell_type": "code",
   "execution_count": 10,
   "metadata": {},
   "outputs": [],
   "source": [
    "import pyaudio\n",
    "import numpy as np\n",
    "import matplotlib.pyplot as plt"
   ]
  },
  {
   "cell_type": "code",
   "execution_count": 12,
   "metadata": {},
   "outputs": [
    {
     "name": "stdout",
     "output_type": "stream",
     "text": [
      "Available audio devices:\n",
      "Index: 0, Name: l e t h e x (2) Microphone, Channels: 1, Sample Rate: 48000.0\n",
      "Index: 1, Name: BlackHole 16ch, Channels: 16, Sample Rate: 44100.0\n",
      "Index: 2, Name: BlackHole 2ch, Channels: 2, Sample Rate: 48000.0\n",
      "Index: 3, Name: MacBook Air Microphone, Channels: 1, Sample Rate: 44100.0\n",
      "Index: 4, Name: MacBook Air Speakers, Channels: 0, Sample Rate: 44100.0\n",
      "Index: 5, Name: MJAudioRecorder, Channels: 2, Sample Rate: 48000.0\n",
      "Index: 6, Name: Microsoft Teams Audio, Channels: 2, Sample Rate: 48000.0\n",
      "Index: 7, Name: Serato Virtual Audio, Channels: 2, Sample Rate: 48000.0\n",
      "Index: 8, Name: rekordbox Aggregate Device, Channels: 0, Sample Rate: 0.0\n",
      "Index: 9, Name: ZoomAudioDevice, Channels: 2, Sample Rate: 44100.0\n",
      "Index: 10, Name: SC->Ableton->OBS, Channels: 18, Sample Rate: 48000.0\n",
      "Index: 11, Name: SDR Monitor, Channels: 2, Sample Rate: 48000.0\n",
      "Index: 12, Name: Stereo 2.1, Channels: 2, Sample Rate: 48000.0\n",
      "Index: 13, Name: Multi-Output Device, Channels: 0, Sample Rate: 44100.0\n"
     ]
    }
   ],
   "source": [
    "p = pyaudio.PyAudio()\n",
    "\n",
    "print(\"Available audio devices:\")\n",
    "for i in range(p.get_device_count()):\n",
    "    device_info = p.get_device_info_by_index(i)\n",
    "    print(f\"Index: {i}, Name: {device_info['name']}, Channels: {device_info['maxInputChannels']}, Sample Rate: {device_info['defaultSampleRate']}\")\n"
   ]
  },
  {
   "cell_type": "code",
   "execution_count": 13,
   "metadata": {},
   "outputs": [],
   "source": [
    "def stream_audio(device_name, num_channels=2, num_samples=1024, sample_rate=48000, device_index=0):\n",
    "    # Set up the audio stream\n",
    "    p = pyaudio.PyAudio()\n",
    "\n",
    "    # Find the index that corresponds to the device name\n",
    "    device_index = None\n",
    "    for i in range(p.get_device_count()):\n",
    "        info = p.get_device_info_by_index(i)\n",
    "        if info['name'] == device_name:\n",
    "            device_index = i\n",
    "            break\n",
    "\n",
    "    if device_index is None:\n",
    "        print(f\"Device with name '{device_name}' not found.\")\n",
    "        return\n",
    "\n",
    "    stream = p.open(format=pyaudio.paInt16, channels=num_channels, rate=sample_rate, input=True, frames_per_buffer=num_samples, input_device_index=device_index)\n",
    "\n",
    "   \n",
    "    previous_peak_freq = 0 # Initialize a variable to keep track of the previous peak frequency\n",
    "\n",
    "    try:\n",
    "        while True:\n",
    "            try:\n",
    "                # Read a chunk of audio data\n",
    "                data = np.frombuffer(stream.read(num_samples, exception_on_overflow=False), dtype=np.int16)\n",
    "            except OSError as e:\n",
    "                if e.errno == -9981:\n",
    "                    print(\"Input overflowed; skipping this chunk\")\n",
    "                    continue\n",
    "\n",
    "            # Calculate the amplitude\n",
    "            amplitude = np.abs(data).mean()\n",
    "\n",
    "            # Perform a Fourier transform to get the frequency spectrum\n",
    "            spectrum = np.fft.fft(data)\n",
    "            freqs = np.fft.fftfreq(len(spectrum))\n",
    "            magnitude = np.abs(spectrum)\n",
    "\n",
    "            # Find the peak frequency\n",
    "            peak_freq = np.abs(freqs[np.argmax(magnitude)])\n",
    "\n",
    "            # Check if the frequency shift is higher than 1 Hz\n",
    "            if abs(peak_freq - previous_peak_freq) > 1:\n",
    "                print(f\"Frequency: {peak_freq} Hz, Amplitude: {amplitude}\")\n",
    "\n",
    "            # Optionally, plot the signal and frequency spectrum\n",
    "            # plt.subplot(2, 1, 1)\n",
    "            # plt.plot(data)\n",
    "            # plt.title(\"Signal\")\n",
    "            # plt.subplot(2, 1, 2)\n",
    "            # plt.plot(freqs, magnitude)\n",
    "            # plt.title(\"Frequency Spectrum\")\n",
    "            # plt.show()\n",
    "\n",
    "    except KeyboardInterrupt:\n",
    "        # Stop streaming on keyboard interrupt\n",
    "        stream.stop_stream()\n",
    "        stream.close()\n",
    "        p.terminate()\n",
    "\n",
    "    return\n"
   ]
  },
  {
   "cell_type": "code",
   "execution_count": 14,
   "metadata": {},
   "outputs": [],
   "source": [
    "device_index = 2 # Replace with the index of the Aggregate Device or Multi-Output Device\n",
    "device_info = p.get_device_info_by_index(device_index)\n",
    "sample_rate = int(device_info['defaultSampleRate'])\n",
    "number_channels = int(device_info['maxInputChannels'])\n",
    "# stream = p.open(format=pyaudio.paInt16, channels=num_channels, rate=sample_rate, input=True, frames_per_buffer=1024, input_device_index=device_index)\n"
   ]
  },
  {
   "cell_type": "code",
   "execution_count": 15,
   "metadata": {},
   "outputs": [],
   "source": [
    "stream_audio('BlackHole 2ch', num_channels=number_channels, sample_rate=sample_rate, device_index=device_index)\n"
   ]
  },
  {
   "cell_type": "code",
   "execution_count": null,
   "metadata": {},
   "outputs": [],
   "source": [
    "\n",
    "\n",
    "# Create a slider for frequency control\n",
    "freq_slider = widgets.FloatSlider(\n",
    "    value=gqrx.get_frequency(),\n",
    "    min=2.3e9,  # 2.3 GHz\n",
    "    max=2.5e9,  # 2.5 GHz\n",
    "    step=1e6,  # 1 MHz step\n",
    "    description='Frequency:',\n",
    "    continuous_update=False\n",
    ")\n",
    "widgets.interactive(update_frequency, freq=freq_slider)\n"
   ]
  },
  {
   "cell_type": "code",
   "execution_count": null,
   "metadata": {},
   "outputs": [],
   "source": [
    "\n",
    "# Close the connection\n",
    "gqrx.close()\n"
   ]
  }
 ],
 "metadata": {
  "kernelspec": {
   "display_name": "lossydenv",
   "language": "python",
   "name": "python3"
  },
  "language_info": {
   "codemirror_mode": {
    "name": "ipython",
    "version": 3
   },
   "file_extension": ".py",
   "mimetype": "text/x-python",
   "name": "python",
   "nbconvert_exporter": "python",
   "pygments_lexer": "ipython3",
   "version": "3.9.12"
  },
  "orig_nbformat": 4
 },
 "nbformat": 4,
 "nbformat_minor": 2
}
